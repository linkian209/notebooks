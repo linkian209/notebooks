{
 "cells": [
  {
   "cell_type": "markdown",
   "id": "4b6154b6",
   "metadata": {},
   "source": [
    "# Assuming no extra contributors and all people pay equally for groom"
   ]
  },
  {
   "cell_type": "code",
   "execution_count": 10,
   "id": "3eea57d1",
   "metadata": {},
   "outputs": [
    {
     "name": "stdout",
     "output_type": "stream",
     "text": [
      "Total Cost: $853.84 | Cost per night $426.92\n",
      "First night per diem: $85.38 | second night per diem $53.37\n",
      "Amount for those staying two nights: $138.75\n",
      "Amount for those staying one night: $53.37\n",
      "\n",
      "Sanity check:\n",
      "Two Nighters Pay in Total: $693.75\n",
      "One Nighters pay in Total: $160.09\n",
      "Totalling: $853.84\n"
     ]
    }
   ],
   "source": [
    "# Initializing Variables\n",
    "#sales_tax = 1.07\n",
    "#amount_before_tax = 853.00\n",
    "#total = amount_before_tax * sales_tax\n",
    "total = 853.84\n",
    "per_night = total / 2.0\n",
    "num_staying_two_nights = 5.0\n",
    "num_staying_one_night = 3.0\n",
    "\n",
    "# Per night calculations\n",
    "first_night = per_night / num_staying_two_nights\n",
    "second_night = per_night / (num_staying_two_nights + num_staying_one_night)\n",
    "two_night_cost = first_night + second_night\n",
    "one_night_cost = second_night\n",
    "\n",
    "# Sanity checking\n",
    "total_for_two_nighters = two_night_cost * num_staying_two_nights\n",
    "total_for_one_nighters = one_night_cost * num_staying_one_night\n",
    "\n",
    "# Print Totals\n",
    "print(f'Total Cost: ${total:.2f} | Cost per night ${per_night:.2f}')\n",
    "print(f'First night per diem: ${first_night:.2f} | second night per diem ${second_night:.2f}')\n",
    "print(f'Amount for those staying two nights: ${two_night_cost:.2f}')\n",
    "print(f'Amount for those staying one night: ${one_night_cost:.2f}')\n",
    "\n",
    "print(f'\\nSanity check:\\nTwo Nighters Pay in Total: ${total_for_two_nighters:.2f}')\n",
    "print(f'One Nighters pay in Total: ${total_for_one_nighters:.2f}')\n",
    "print(f'Totalling: ${total_for_two_nighters+total_for_one_nighters:.2f}')"
   ]
  },
  {
   "cell_type": "markdown",
   "id": "898c1e8d",
   "metadata": {},
   "source": [
    "# Extra Contributors and assuming people pay for the groom's stay"
   ]
  },
  {
   "cell_type": "code",
   "execution_count": 8,
   "id": "2bd1ed72",
   "metadata": {},
   "outputs": [
    {
     "name": "stdout",
     "output_type": "stream",
     "text": [
      "Total Cost: $912.71 | Cost per night $456.36\n",
      "First night per diem: $76.06 | second night per diem $50.71\n",
      "\n",
      "Cost of Groom: 126.77\n",
      "Per person Groom Cost: 14.09\n",
      "\n",
      "Amount for those staying two nights: $140.85\n",
      "Amount for those staying one night: $64.79\n",
      "\n",
      "Sanity check:\n",
      "Two Nighters Pay in Total: $704.25\n",
      "One Nighters pay in Total: $194.37\n",
      "Extra contributors pay in Total: $14.09\n",
      "Totalling: $912.71\n"
     ]
    }
   ],
   "source": [
    "# Initializing Variables\n",
    "#sales_tax = 1.07\n",
    "#amount_before_tax = 853.00\n",
    "#total = amount_before_tax * sales_tax\n",
    "total = 853.84\n",
    "per_night = total / 2.0\n",
    "num_staying_two_nights = 6.0\n",
    "num_staying_one_night = 3.0\n",
    "extra_contributors = 1.0\n",
    "num_paying_for_groom = num_staying_two_nights + num_staying_one_night + extra_contributors - 1.0 # remove the groom\n",
    "\n",
    "# Per night calculations\n",
    "first_night = per_night / num_staying_two_nights\n",
    "second_night = per_night / (num_staying_two_nights + num_staying_one_night)\n",
    "two_night_cost = first_night + second_night\n",
    "one_night_cost = second_night\n",
    "\n",
    "# Groom costs\n",
    "groom_cost = two_night_cost\n",
    "per_person_groom_cost = groom_cost / num_paying_for_groom\n",
    "\n",
    "# Sanity checking\n",
    "total_for_two_nighters = (two_night_cost + per_person_groom_cost) * (num_staying_two_nights - 1)\n",
    "total_for_one_nighters = (one_night_cost + per_person_groom_cost) * num_staying_one_night\n",
    "\n",
    "# Print Totals\n",
    "print(f'Total Cost: ${total:.2f} | Cost per night ${per_night:.2f}')\n",
    "print(f'First night per diem: ${first_night:.2f} | second night per diem ${second_night:.2f}')\n",
    "\n",
    "print(f'\\nCost of Groom: {groom_cost:.2f}')\n",
    "print(f'Per person Groom Cost: {per_person_groom_cost:.2f}')\n",
    "\n",
    "print(f'\\nAmount for those staying two nights: ${two_night_cost + per_person_groom_cost:.2f}')\n",
    "print(f'Amount for those staying one night: ${one_night_cost + per_person_groom_cost:.2f}')\n",
    "\n",
    "print(f'\\nSanity check:\\nTwo Nighters Pay in Total: ${total_for_two_nighters:.2f}')\n",
    "print(f'One Nighters pay in Total: ${total_for_one_nighters:.2f}')\n",
    "print(f'Extra contributors pay in Total: ${per_person_groom_cost:.2f}')\n",
    "print(f'Totalling: ${total_for_two_nighters+total_for_one_nighters+per_person_groom_cost:.2f}')"
   ]
  },
  {
   "cell_type": "code",
   "execution_count": null,
   "id": "94fed927",
   "metadata": {},
   "outputs": [],
   "source": []
  }
 ],
 "metadata": {
  "kernelspec": {
   "display_name": "Python 3.9.13 64-bit",
   "language": "python",
   "name": "python3"
  },
  "language_info": {
   "codemirror_mode": {
    "name": "ipython",
    "version": 3
   },
   "file_extension": ".py",
   "mimetype": "text/x-python",
   "name": "python",
   "nbconvert_exporter": "python",
   "pygments_lexer": "ipython3",
   "version": "3.9.13"
  },
  "vscode": {
   "interpreter": {
    "hash": "aee8b7b246df8f9039afb4144a1f6fd8d2ca17a180786b69acc140d282b71a49"
   }
  }
 },
 "nbformat": 4,
 "nbformat_minor": 5
}
